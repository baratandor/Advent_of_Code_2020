{
 "metadata": {
  "language_info": {
   "codemirror_mode": {
    "name": "ipython",
    "version": 3
   },
   "file_extension": ".py",
   "mimetype": "text/x-python",
   "name": "python",
   "nbconvert_exporter": "python",
   "pygments_lexer": "ipython3",
   "version": "3.9.1-final"
  },
  "orig_nbformat": 2,
  "kernelspec": {
   "name": "python3",
   "display_name": "Python 3.9.1 64-bit",
   "metadata": {
    "interpreter": {
     "hash": "ac2eaa0ea0ebeafcc7822e65e46aa9d4f966f30b695406963e145ea4a91cd4fc"
    }
   }
  }
 },
 "nbformat": 4,
 "nbformat_minor": 2,
 "cells": [
  {
   "cell_type": "code",
   "execution_count": 453,
   "metadata": {},
   "outputs": [],
   "source": [
    "#Part01-hez futtasd\n",
    "with open(\"input.txt\") as file:\n",
    "    rawd = [line.strip() for line in file]"
   ]
  },
  {
   "cell_type": "code",
   "execution_count": null,
   "metadata": {},
   "outputs": [],
   "source": [
    "#Part02-hoz futtasd\n",
    "with open(\"input.txt\") as fp:\n",
    "    rawd = fp.read()"
   ]
  },
  {
   "cell_type": "code",
   "execution_count": 451,
   "metadata": {},
   "outputs": [],
   "source": [
    "def part01(answers):\n",
    "    groupans = \"\"\n",
    "    anscont = 0\n",
    "    for line in answers:\n",
    "        if len(line) == 0:\n",
    "            anscont += len(set(groupans))\n",
    "            groupans = \"\"\n",
    "        groupans += line\n",
    "        #print(len(set(groupans)))\n",
    "    return anscont"
   ]
  },
  {
   "cell_type": "code",
   "execution_count": 454,
   "metadata": {
    "tags": []
   },
   "outputs": [
    {
     "output_type": "execute_result",
     "data": {
      "text/plain": [
       "6161"
      ]
     },
     "metadata": {},
     "execution_count": 454
    }
   ],
   "source": [
    "part01(rawd)"
   ]
  },
  {
   "cell_type": "code",
   "execution_count": null,
   "metadata": {},
   "outputs": [],
   "source": [
    "def part02(grpans):\n",
    "    grps = [[set(x) for x in group.split('\\n')] for group in grpans.split('\\n\\n')]\n",
    "    ansk = 0\n",
    "    for i in grps:\n",
    "        ansk += len(i[0].intersection(*i[1:]))\n",
    "    print(ansk)\n"
   ]
  },
  {
   "cell_type": "code",
   "execution_count": null,
   "metadata": {},
   "outputs": [],
   "source": [
    "part02(rawd)"
   ]
  }
 ]
}