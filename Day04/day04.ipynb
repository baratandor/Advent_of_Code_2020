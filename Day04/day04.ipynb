{
 "metadata": {
  "language_info": {
   "codemirror_mode": {
    "name": "ipython",
    "version": 3
   },
   "file_extension": ".py",
   "mimetype": "text/x-python",
   "name": "python",
   "nbconvert_exporter": "python",
   "pygments_lexer": "ipython3",
   "version": "3.9.1-final"
  },
  "orig_nbformat": 2,
  "kernelspec": {
   "name": "python3",
   "display_name": "Python 3.9.1 64-bit",
   "metadata": {
    "interpreter": {
     "hash": "ac2eaa0ea0ebeafcc7822e65e46aa9d4f966f30b695406963e145ea4a91cd4fc"
    }
   }
  }
 },
 "nbformat": 4,
 "nbformat_minor": 2,
 "cells": [
  {
   "cell_type": "code",
   "execution_count": 260,
   "metadata": {},
   "outputs": [],
   "source": [
    "import string"
   ]
  },
  {
   "cell_type": "code",
   "execution_count": 261,
   "metadata": {},
   "outputs": [],
   "source": [
    "with open('input.txt') as fp:\n",
    "    rawd = fp.read()"
   ]
  },
  {
   "cell_type": "code",
   "execution_count": 262,
   "metadata": {},
   "outputs": [],
   "source": [
    "def part01(passlist):\n",
    "    passnum = passlist.count(\"\\n\\n\")\n",
    "    rawdwork = passlist\n",
    "    rawdls = []\n",
    "    validpassnum = 0\n",
    "    for i in range(passnum):\n",
    "        rawdls.append(rawdwork.split(\"\\n\\n\",1)[0])\n",
    "        rawdwork = rawdwork.split(\"\\n\\n\",1)[1]\n",
    "    if \"\\n\\n\" not in rawdwork:\n",
    "        rawdls.append(rawdwork)\n",
    "    for j in rawdls:\n",
    "        if PassValidator(j) == 1:\n",
    "            validpassnum += 1\n",
    "    return validpassnum"
   ]
  },
  {
   "cell_type": "code",
   "execution_count": 263,
   "metadata": {
    "tags": []
   },
   "outputs": [
    {
     "output_type": "execute_result",
     "data": {
      "text/plain": [
       "256"
      ]
     },
     "metadata": {},
     "execution_count": 263
    }
   ],
   "source": [
    "part01(rawd)"
   ]
  },
  {
   "cell_type": "code",
   "execution_count": 264,
   "metadata": {},
   "outputs": [],
   "source": [
    "def PassValidator(passport):\n",
    "    passcats = {}\n",
    "    etalon = [\"eyr\",\"iyr\",\"byr\",\"ecl\",\"pid\",\"hcl\",\"hgt\"]\n",
    "    e = passport.split()\n",
    "    for i in e:\n",
    "        key = i.split(\":\")[0]\n",
    "        val = i.split(\":\")[1]\n",
    "        passcats[key] = val\n",
    "    e.clear()\n",
    "    n = [k for k in passcats.keys() & set(etalon)]\n",
    "    if sorted(n) == sorted(etalon):\n",
    "        return 1\n",
    "    else:\n",
    "        return 0"
   ]
  },
  {
   "cell_type": "code",
   "execution_count": 265,
   "metadata": {},
   "outputs": [],
   "source": [
    "def ValueValidator(passport):\n",
    "    if PassValidator(passport) == 1:\n",
    "        passcats = {}\n",
    "        passcatchecksum = 0\n",
    "        hgttype = \"\"\n",
    "        hgtmeasure = \"\"\n",
    "        e = passport.split()\n",
    "        for i in e:\n",
    "            key = i.split(\":\")[0]\n",
    "            val = i.split(\":\")[1]\n",
    "            passcats[key] = val\n",
    "        e.clear()\n",
    "        for c in passcats[\"hgt\"]:\n",
    "            if c.isalpha():\n",
    "                hgttype += c\n",
    "            if c.isdigit():\n",
    "                hgtmeasure += c\n",
    "        if 1920 <= int(passcats[\"byr\"]) <= 2002:\n",
    "            passcatchecksum += 1\n",
    "        if 2010 <= int(passcats[\"iyr\"]) <= 2020:\n",
    "            passcatchecksum += 1\n",
    "        if 2020 <= int(passcats[\"eyr\"]) <= 2030:\n",
    "            passcatchecksum += 1\n",
    "        if hgttype == \"cm\":\n",
    "            if 150 <= int(hgtmeasure) <= 193:\n",
    "                passcatchecksum += 1\n",
    "        if hgttype == \"in\":\n",
    "            if 59 <= int(hgtmeasure) <= 76:\n",
    "                passcatchecksum += 1\n",
    "        if \"#\" in passcats[\"hcl\"]:\n",
    "            if all(c in string.hexdigits for c in passcats[\"hcl\"].split(\"#\")[1]) == True:\n",
    "                passcatchecksum += 1\n",
    "        if passcats[\"ecl\"] == \"amb\" or passcats[\"ecl\"] == \"blu\" or passcats[\"ecl\"] == \"brn\" or passcats[\"ecl\"] == \"gry\" \\\n",
    "            or passcats[\"ecl\"] == \"grn\" or passcats[\"ecl\"] == \"hzl\" or passcats[\"ecl\"] == \"oth\":\n",
    "            passcatchecksum += 1\n",
    "        if len(passcats[\"pid\"]) == 9:\n",
    "            passcatchecksum += 1\n",
    "        return passcatchecksum\n",
    "    else:\n",
    "        return \"Invalid Pass\""
   ]
  },
  {
   "cell_type": "code",
   "execution_count": 266,
   "metadata": {},
   "outputs": [],
   "source": [
    "def part02(passlist):\n",
    "    passnum = passlist.count(\"\\n\\n\")\n",
    "    rawdwork = passlist\n",
    "    rawdls = []\n",
    "    validpassnum = 0\n",
    "    for i in range(passnum):\n",
    "        rawdls.append(rawdwork.split(\"\\n\\n\",1)[0])\n",
    "        rawdwork = rawdwork.split(\"\\n\\n\",1)[1]\n",
    "    if \"\\n\\n\" not in rawdwork:\n",
    "        rawdls.append(rawdwork)\n",
    "    for j in rawdls:\n",
    "       if ValueValidator(j) == 7:\n",
    "           validpassnum += 1\n",
    "    return validpassnum"
   ]
  },
  {
   "cell_type": "code",
   "execution_count": 267,
   "metadata": {},
   "outputs": [
    {
     "output_type": "execute_result",
     "data": {
      "text/plain": [
       "198"
      ]
     },
     "metadata": {},
     "execution_count": 267
    }
   ],
   "source": [
    "part02(rawd)"
   ]
  }
 ]
}