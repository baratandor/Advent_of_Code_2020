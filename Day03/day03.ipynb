{
 "metadata": {
  "language_info": {
   "codemirror_mode": {
    "name": "ipython",
    "version": 3
   },
   "file_extension": ".py",
   "mimetype": "text/x-python",
   "name": "python",
   "nbconvert_exporter": "python",
   "pygments_lexer": "ipython3",
   "version": "3.9.1-final"
  },
  "orig_nbformat": 2,
  "kernelspec": {
   "name": "python3",
   "display_name": "Python 3.9.1 64-bit",
   "metadata": {
    "interpreter": {
     "hash": "ac2eaa0ea0ebeafcc7822e65e46aa9d4f966f30b695406963e145ea4a91cd4fc"
    }
   }
  }
 },
 "nbformat": 4,
 "nbformat_minor": 2,
 "cells": [
  {
   "cell_type": "code",
   "execution_count": 157,
   "metadata": {},
   "outputs": [],
   "source": [
    "with open('input.txt') as fp:\n",
    "    rawd = [line[0:-1] for line in fp]"
   ]
  },
  {
   "source": [
    "PART ONE"
   ],
   "cell_type": "markdown",
   "metadata": {}
  },
  {
   "cell_type": "code",
   "execution_count": 155,
   "metadata": {},
   "outputs": [],
   "source": [
    "def part01(x,y):\n",
    "\n",
    "    tree = 0\n",
    "    xpos = 0\n",
    "    ypos = 0\n",
    "    mapsize = len(rawd[0])\n",
    "\n",
    "    while not ypos >= len(rawd) - 1:\n",
    "        xpos += x\n",
    "        ypos += y\n",
    "        if xpos >= mapsize:\n",
    "            xpos -= mapsize\n",
    "        if rawd[ypos][xpos] == '#':\n",
    "            tree += 1\n",
    "    return tree\n",
    "        \n"
   ]
  },
  {
   "cell_type": "code",
   "execution_count": 160,
   "metadata": {},
   "outputs": [
    {
     "output_type": "execute_result",
     "data": {
      "text/plain": [
       "244"
      ]
     },
     "metadata": {},
     "execution_count": 160
    }
   ],
   "source": [
    "part01(3,1)"
   ]
  },
  {
   "source": [
    "PART TWO"
   ],
   "cell_type": "markdown",
   "metadata": {}
  },
  {
   "cell_type": "code",
   "execution_count": 161,
   "metadata": {},
   "outputs": [],
   "source": [
    "def checktree(x,y):\n",
    "    tree = 0\n",
    "    xpos = 0\n",
    "    ypos = 0\n",
    "    mapsize = len(rawd[0])\n",
    "\n",
    "    while not ypos >= len(rawd) - 1:\n",
    "        xpos += x\n",
    "        ypos += y\n",
    "        if xpos >= mapsize:\n",
    "            xpos -= mapsize\n",
    "        if rawd[ypos][xpos] == '#':\n",
    "            tree += 1\n",
    "    return tree"
   ]
  },
  {
   "cell_type": "code",
   "execution_count": 163,
   "metadata": {},
   "outputs": [],
   "source": [
    "def part02():\n",
    "    slope01x = 1\n",
    "    slope01y = 1\n",
    "    slope02x = 3\n",
    "    slope02y = 1\n",
    "    slope03x = 5\n",
    "    slope03y = 1\n",
    "    slope04x = 7\n",
    "    slope04y = 1\n",
    "    slope05x = 1\n",
    "    slope05y = 2\n",
    "\n",
    "    result = checktree(slope01x,slope01y) * checktree(slope02x,slope02y) * checktree(slope03x,slope03y) * checktree(slope04x,slope04y) * checktree(slope05x,slope05y)\n",
    "\n",
    "    #checktree(slope01x,slope01y)\n",
    "    #checktree(slope02x,slope02y)\n",
    "    #checktree(slope03x,slope03y)\n",
    "    #checktree(slope04x,slope04y)\n",
    "    #checktree(slope05x,slope05y)\n",
    "\n",
    "    return result\n",
    "\n"
   ]
  },
  {
   "cell_type": "code",
   "execution_count": 164,
   "metadata": {},
   "outputs": [
    {
     "output_type": "execute_result",
     "data": {
      "text/plain": [
       "9406609920"
      ]
     },
     "metadata": {},
     "execution_count": 164
    }
   ],
   "source": [
    "part02()"
   ]
  }
 ]
}