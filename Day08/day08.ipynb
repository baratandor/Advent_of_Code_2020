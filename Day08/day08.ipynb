{
 "metadata": {
  "language_info": {
   "codemirror_mode": {
    "name": "ipython",
    "version": 3
   },
   "file_extension": ".py",
   "mimetype": "text/x-python",
   "name": "python",
   "nbconvert_exporter": "python",
   "pygments_lexer": "ipython3",
   "version": "3.8.2-final"
  },
  "orig_nbformat": 2,
  "kernelspec": {
   "name": "python3",
   "display_name": "Python 3.8.2 64-bit",
   "metadata": {
    "interpreter": {
     "hash": "31f2aee4e71d21fbe5cf8b01ff0e069b9275f58929596ceb00d14d90e3e16cd6"
    }
   }
  }
 },
 "nbformat": 4,
 "nbformat_minor": 2,
 "cells": [
  {
   "cell_type": "code",
   "execution_count": 69,
   "metadata": {},
   "outputs": [],
   "source": [
    "with open(\"input.txt\") as fp:\n",
    "    rawd = fp.read()\n",
    "rawd = rawd.splitlines()\n",
    "instructions = []\n",
    "for line in rawd:\n",
    "    instr, value = line.split()\n",
    "    value = int(value)\n",
    "    instructions.append((instr, value))"
   ]
  },
  {
   "cell_type": "code",
   "execution_count": 70,
   "metadata": {},
   "outputs": [],
   "source": [
    "def part01(instructions):\n",
    "    linenumber = []\n",
    "    i = 0\n",
    "    exitcode = 0\n",
    "    accumulator = 0\n",
    "    while i < len(instructions):\n",
    "        if i in linenumber:\n",
    "            exitcode = 1\n",
    "            return [exitcode, accumulator]\n",
    "        linenumber.append(i)\n",
    "        instr,value = instructions[i]\n",
    "        if instr == \"acc\":\n",
    "            accumulator += value\n",
    "        elif instr == \"jmp\":\n",
    "            i += value - 1\n",
    "        elif instr == \"nop\":\n",
    "            None\n",
    "        i += 1\n",
    "    return [exitcode, accumulator]\n",
    "    "
   ]
  },
  {
   "cell_type": "code",
   "execution_count": 71,
   "metadata": {},
   "outputs": [
    {
     "output_type": "execute_result",
     "data": {
      "text/plain": [
       "[1, 1337]"
      ]
     },
     "metadata": {},
     "execution_count": 71
    }
   ],
   "source": [
    "part01(instructions)"
   ]
  },
  {
   "cell_type": "code",
   "execution_count": 72,
   "metadata": {},
   "outputs": [],
   "source": [
    "def part02(instructions):\n",
    "    for i, (instr,value) in enumerate(instructions):\n",
    "        if instr == \"jmp\":\n",
    "            ec, acc = part01(instructions[:i]+[(\"nop\",value)]+instructions[i+1:])\n",
    "        if instr == \"nop\":\n",
    "            ec, acc = part01(instructions[:i]+[(swap[\"jmp\"],value)]+instructions[i+1:])\n",
    "        if ec == 0:\n",
    "            return [ec,acc]"
   ]
  },
  {
   "cell_type": "code",
   "execution_count": 73,
   "metadata": {},
   "outputs": [
    {
     "output_type": "execute_result",
     "data": {
      "text/plain": [
       "[0, 1358]"
      ]
     },
     "metadata": {},
     "execution_count": 73
    }
   ],
   "source": [
    "part02(instructions)"
   ]
  }
 ]
}