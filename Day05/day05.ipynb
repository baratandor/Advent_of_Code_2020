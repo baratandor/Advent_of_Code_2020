{
 "metadata": {
  "language_info": {
   "codemirror_mode": {
    "name": "ipython",
    "version": 3
   },
   "file_extension": ".py",
   "mimetype": "text/x-python",
   "name": "python",
   "nbconvert_exporter": "python",
   "pygments_lexer": "ipython3",
   "version": "3.9.1-final"
  },
  "orig_nbformat": 2,
  "kernelspec": {
   "name": "python3",
   "display_name": "Python 3.9.1 64-bit",
   "metadata": {
    "interpreter": {
     "hash": "ac2eaa0ea0ebeafcc7822e65e46aa9d4f966f30b695406963e145ea4a91cd4fc"
    }
   }
  }
 },
 "nbformat": 4,
 "nbformat_minor": 2,
 "cells": [
  {
   "cell_type": "code",
   "execution_count": 176,
   "metadata": {},
   "outputs": [],
   "source": [
    "with open(\"input.txt\") as file:\n",
    "    rawd = [line.strip() for line in file]"
   ]
  },
  {
   "cell_type": "code",
   "execution_count": 177,
   "metadata": {},
   "outputs": [],
   "source": [
    "def seatidcalc(passportlist):\n",
    "        \n",
    "    seatidlist = []\n",
    "\n",
    "    for passport in rawd:\n",
    "        top = 127\n",
    "        bottom = 0\n",
    "        middle = (top + bottom) / 2\n",
    "\n",
    "        for rowdata in passport:\n",
    "\n",
    "            if rowdata == 'B':\n",
    "                if not middle.is_integer():\n",
    "                    middle += 1\n",
    "                bottom = int(middle)\n",
    "                middle = (top + bottom) / 2\n",
    "                \n",
    "            elif rowdata == 'F':\n",
    "                top = int(middle)\n",
    "                middle = (top + bottom) / 2\n",
    "            \n",
    "            rownum = bottom\n",
    "\n",
    "        top = 7\n",
    "        bottom = 0\n",
    "        middle = (top + bottom) / 2\n",
    "\n",
    "        for coldata in passport:\n",
    "\n",
    "            if coldata == 'R':\n",
    "                if not middle.is_integer():\n",
    "                    middle += 1\n",
    "                bottom = int(middle)\n",
    "                middle = (top + bottom) / 2\n",
    "            \n",
    "            elif coldata == 'L':\n",
    "                top = int(middle)\n",
    "                middle = (top + bottom) / 2\n",
    "\n",
    "            colnum = bottom\n",
    "\n",
    "        seatid = rownum * 8 + colnum\n",
    "        seatidlist.append(seatid)\n",
    "\n",
    "    return seatidlist"
   ]
  },
  {
   "cell_type": "code",
   "execution_count": 178,
   "metadata": {},
   "outputs": [],
   "source": [
    "def part01():\n",
    "    return max(seatidcalc(rawd))"
   ]
  },
  {
   "cell_type": "code",
   "execution_count": 179,
   "metadata": {},
   "outputs": [
    {
     "output_type": "execute_result",
     "data": {
      "text/plain": [
       "994"
      ]
     },
     "metadata": {},
     "execution_count": 179
    }
   ],
   "source": [
    "part01()"
   ]
  },
  {
   "cell_type": "code",
   "execution_count": 180,
   "metadata": {},
   "outputs": [],
   "source": [
    "def part02():\n",
    "    seatidlist = sorted(seatidcalc(rawd))\n",
    "    return [x for x in range(seatidlist[0], seatidlist[-1]+1)  \n",
    "                               if x not in seatidlist]"
   ]
  },
  {
   "cell_type": "code",
   "execution_count": 181,
   "metadata": {},
   "outputs": [
    {
     "output_type": "execute_result",
     "data": {
      "text/plain": [
       "[741]"
      ]
     },
     "metadata": {},
     "execution_count": 181
    }
   ],
   "source": [
    "part02()"
   ]
  }
 ]
}